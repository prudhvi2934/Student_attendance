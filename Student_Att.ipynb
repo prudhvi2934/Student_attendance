{
 "cells": [
  {
   "cell_type": "markdown",
   "id": "c45dbebe",
   "metadata": {},
   "source": [
    "# Student_Att\n",
    "Give student's attendance percentage of each module per week \n"
   ]
  },
  {
   "cell_type": "markdown",
   "id": "f7020dc6",
   "metadata": {},
   "source": [
    "## Imports"
   ]
  },
  {
   "cell_type": "code",
   "execution_count": 1,
   "id": "5c3a7af0",
   "metadata": {},
   "outputs": [],
   "source": [
    "import pandas as pd\n",
    "import numpy as np\n",
    "import matplotlib.pyplot as plt\n",
    "import sqlite3 as sql\n",
    "import ipywidgets as widgets\n",
    "from ipynb.fs.defs.CW_Preprocessing import *"
   ]
  },
  {
   "cell_type": "markdown",
   "id": "034da581",
   "metadata": {},
   "source": [
    "## Functions "
   ]
  },
  {
   "cell_type": "code",
   "execution_count": 2,
   "id": "2f4e9c42",
   "metadata": {},
   "outputs": [],
   "source": [
    "def df_stu_with_sessions(df_student_attendance,dfsessions):\n",
    "    '''\n",
    "    merging student attendance and sessions dataframes\n",
    "    '''\n",
    "    \n",
    "    df_student_attendance_T = df_student_attendance.transpose()\n",
    "    df_student_attendance_T.index.names = ['session_id']\n",
    "    df=pd.merge(dfsessions,df_student_attendance_T,\\\n",
    "                how='inner',on = 'session_id')\n",
    "    return df"
   ]
  },
  {
   "cell_type": "code",
   "execution_count": 3,
   "id": "4c183d08",
   "metadata": {},
   "outputs": [],
   "source": [
    "def calculate_att_per(df,studentId):\n",
    "    '''\n",
    "    creates a new column with attendance percentages \n",
    "    '''\n",
    "    \n",
    "    df_studentID = df[['course','week_no',studentId]]\n",
    "    df_agg = df_studentID.groupby(['course','week_no']).size().reset_index(name='total_classes')\n",
    "    df_attended = df_studentID.groupby(['course','week_no']).agg({studentId:'sum'}).reset_index()\n",
    "    df_attended = df_attended.rename(columns={studentId:'classes_attended'})\n",
    "    df_merged = pd.merge(df_agg, df_attended, on=['course','week_no'])\n",
    "    df_merged['attendance_percentage'] = df_merged['classes_attended'] / df_merged['total_classes'] * 100\n",
    "    \n",
    "    return df_merged\n"
   ]
  },
  {
   "cell_type": "code",
   "execution_count": 4,
   "id": "e876958b",
   "metadata": {},
   "outputs": [],
   "source": [
    "def student_att(studentId):\n",
    "    '''\n",
    "    Shows attendance percentage for each module per week for the given student ID\n",
    "    \n",
    "    input:\n",
    "        studentId: Student ID number, string type \n",
    "    return: \n",
    "        displays a table and a graph\n",
    "    '''\n",
    "    \n",
    "    try:\n",
    "        # Creating a attendance record table \n",
    "        df_student_attendance,dfsessions=get_tables()\n",
    "        df = df_stu_with_sessions(df_student_attendance,dfsessions)\n",
    "        df_merged = calculate_att_per(df,studentId)\n",
    "        df_merged = df_merged.pivot(index='week_no',\\\n",
    "                                    columns='course', values='attendance_percentage')\n",
    "        df_merged.columns.name = None\n",
    "        df_merged = df_merged.rename(columns=\\\n",
    "                                     {'COA111':'COA111%','COA122':'COA122%'})\n",
    "\n",
    "        # Creating an output widgets \n",
    "        table_out = widgets.Output()\n",
    "        graph_out = widgets.Output()\n",
    "\n",
    "        # Displaying the table and graph in the output widgets\n",
    "        with table_out:\n",
    "            display(df_merged)\n",
    "        with graph_out:\n",
    "            df_merged.plot.bar(figsize=(5,3))\n",
    "            plt.xticks(rotation=0)\n",
    "            plt.show()\n",
    "\n",
    "        # Displaying the table and the graph in a horizontal box layout\n",
    "        hbox = widgets.HBox([table_out, graph_out])\n",
    "        display(hbox)\n",
    "        \n",
    "    except:\n",
    "        print(\"Student ID: %s did not attended classes\"%(studentId))\n",
    "   "
   ]
  },
  {
   "cell_type": "markdown",
   "id": "62558666",
   "metadata": {},
   "source": [
    "## Testing "
   ]
  },
  {
   "cell_type": "code",
   "execution_count": 7,
   "id": "98b78a2a",
   "metadata": {
    "scrolled": false
   },
   "outputs": [
    {
     "data": {
      "application/vnd.jupyter.widget-view+json": {
       "model_id": "71002a2accf045179d175b8d04cb475c",
       "version_major": 2,
       "version_minor": 0
      },
      "text/plain": [
       "HBox(children=(Output(), Output()))"
      ]
     },
     "metadata": {},
     "output_type": "display_data"
    }
   ],
   "source": [
    "student_att(16)"
   ]
  },
  {
   "cell_type": "code",
   "execution_count": null,
   "id": "17e9df45",
   "metadata": {},
   "outputs": [],
   "source": []
  }
 ],
 "metadata": {
  "kernelspec": {
   "display_name": "Python 3 (ipykernel)",
   "language": "python",
   "name": "python3"
  },
  "language_info": {
   "codemirror_mode": {
    "name": "ipython",
    "version": 3
   },
   "file_extension": ".py",
   "mimetype": "text/x-python",
   "name": "python",
   "nbconvert_exporter": "python",
   "pygments_lexer": "ipython3",
   "version": "3.9.7"
  }
 },
 "nbformat": 4,
 "nbformat_minor": 5
}
