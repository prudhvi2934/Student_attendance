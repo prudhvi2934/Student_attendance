{
 "cells": [
  {
   "cell_type": "markdown",
   "id": "db476e20",
   "metadata": {},
   "source": [
    "# Module_Att\n",
    "Give the module attendance percentage for the given week\n"
   ]
  },
  {
   "cell_type": "markdown",
   "id": "f7020dc6",
   "metadata": {},
   "source": [
    "## Imports"
   ]
  },
  {
   "cell_type": "code",
   "execution_count": 1,
   "id": "e2037301",
   "metadata": {},
   "outputs": [],
   "source": [
    "import pandas as pd\n",
    "import numpy as np\n",
    "import matplotlib.pyplot as plt\n",
    "import sqlite3 as sql\n",
    "from ipynb.fs.defs.CW_Preprocessing import *\n",
    "from ipynb.fs.defs.Student_Att import *"
   ]
  },
  {
   "cell_type": "markdown",
   "id": "034da581",
   "metadata": {},
   "source": [
    "## Functions "
   ]
  },
  {
   "cell_type": "code",
   "execution_count": null,
   "id": "ec48ae01",
   "metadata": {},
   "outputs": [],
   "source": []
  },
  {
   "cell_type": "code",
   "execution_count": 2,
   "id": "78bf788f",
   "metadata": {},
   "outputs": [],
   "source": [
    "def attendence_percent(df_full):\n",
    "    '''\n",
    "    Calculates attendance percentage for each student \n",
    "    \n",
    "    input:\n",
    "        df_full, dataframe type \n",
    "    return: \n",
    "        percentages_df, dataframe type\n",
    "    '''\n",
    "        \n",
    "    # Creating a new DataFrame with the same column names as df_full\n",
    "    percentages_df = pd.DataFrame(columns=df_full.columns)\n",
    "\n",
    "    # Calculating attedance percentage\n",
    "    for column in df_full.columns:\n",
    "        num_ones = df_full[column].eq(1).sum()\n",
    "        num_zeros = df_full[column].eq(0).sum()\n",
    "        num_null = df_full[column].isnull().sum()\n",
    "    \n",
    "        \n",
    "        percentages_df.loc[0, column] = (num_ones / (num_ones + num_zeros + num_null)) * 100\n",
    "\n",
    "    \n",
    "    return percentages_df\n",
    "\n"
   ]
  },
  {
   "cell_type": "code",
   "execution_count": 3,
   "id": "4b503186",
   "metadata": {},
   "outputs": [],
   "source": [
    "def bcolor_code(value):\n",
    "    '''\n",
    "    Setting background Colors \n",
    "    of table cells \n",
    "    value is a cell value. \n",
    "    '''\n",
    "    \n",
    "    if value < 50:\n",
    "        colour = 'red'\n",
    "    elif value < 60:\n",
    "        colour = 'orange'\n",
    "    elif value < 70:\n",
    "        colour = 'yellow'\n",
    "    else:\n",
    "        colour = 'green'\n",
    "    styler=f'background-color: {colour}'\n",
    "    return styler\n",
    "\n",
    "def format_output(dfData):\n",
    "    '''\n",
    "    applying formatting function to the dataframe.\n",
    "    '''\n",
    "    \n",
    "    styledOutput=dfData.style.applymap(bcolor_code,subset=['att_percent'])\n",
    "    return styledOutput"
   ]
  },
  {
   "cell_type": "code",
   "execution_count": 4,
   "id": "0108e4f7",
   "metadata": {},
   "outputs": [],
   "source": [
    "def module_att(course,week):\n",
    "    '''\n",
    "    Displays attendance percentage for the course per week \n",
    "    \n",
    "    input:\n",
    "        course, string type \n",
    "        week, string type\n",
    "    '''\n",
    "    \n",
    "    df_student_attendance,dfsessions=get_tables()\n",
    "    df_percentage=attendence_percent(df_student_attendance)\n",
    "    df = df_stu_with_sessions(df_percentage,dfsessions)\n",
    "    df = df.rename(columns={0: 'att_percent'})\n",
    "    df = df[['course','week_no','time','location','session_type','att_percent']]\n",
    "    filtered_df=df[(df['course'] == course) & (df['week_no'] == week)]\n",
    "    df_module_att=pd.DataFrame(filtered_df)\n",
    "    df_module_att['att_percent']=df_module_att['att_percent'].astype('float')\n",
    "    display(format_output(df_module_att))"
   ]
  },
  {
   "cell_type": "markdown",
   "id": "ebf020c3",
   "metadata": {},
   "source": [
    "## Testing "
   ]
  },
  {
   "cell_type": "code",
   "execution_count": 5,
   "id": "22c6e255",
   "metadata": {},
   "outputs": [
    {
     "data": {
      "text/html": [
       "<style  type=\"text/css\" >\n",
       "#T_ebd1f_row0_col5{\n",
       "            background-color:  yellow;\n",
       "        }#T_ebd1f_row1_col5{\n",
       "            background-color:  green;\n",
       "        }</style><table id=\"T_ebd1f_\" ><thead>    <tr>        <th class=\"blank level0\" ></th>        <th class=\"col_heading level0 col0\" >course</th>        <th class=\"col_heading level0 col1\" >week_no</th>        <th class=\"col_heading level0 col2\" >time</th>        <th class=\"col_heading level0 col3\" >location</th>        <th class=\"col_heading level0 col4\" >session_type</th>        <th class=\"col_heading level0 col5\" >att_percent</th>    </tr></thead><tbody>\n",
       "                <tr>\n",
       "                        <th id=\"T_ebd1f_level0_row0\" class=\"row_heading level0 row0\" >8</th>\n",
       "                        <td id=\"T_ebd1f_row0_col0\" class=\"data row0 col0\" >COA111</td>\n",
       "                        <td id=\"T_ebd1f_row0_col1\" class=\"data row0 col1\" >5</td>\n",
       "                        <td id=\"T_ebd1f_row0_col2\" class=\"data row0 col2\" >10:00 - 11:00</td>\n",
       "                        <td id=\"T_ebd1f_row0_col3\" class=\"data row0 col3\" >SMB014</td>\n",
       "                        <td id=\"T_ebd1f_row0_col4\" class=\"data row0 col4\" >Lecture</td>\n",
       "                        <td id=\"T_ebd1f_row0_col5\" class=\"data row0 col5\" >63.316583</td>\n",
       "            </tr>\n",
       "            <tr>\n",
       "                        <th id=\"T_ebd1f_level0_row1\" class=\"row_heading level0 row1\" >9</th>\n",
       "                        <td id=\"T_ebd1f_row1_col0\" class=\"data row1 col0\" >COA111</td>\n",
       "                        <td id=\"T_ebd1f_row1_col1\" class=\"data row1 col1\" >5</td>\n",
       "                        <td id=\"T_ebd1f_row1_col2\" class=\"data row1 col2\" >14:00 - 15:00</td>\n",
       "                        <td id=\"T_ebd1f_row1_col3\" class=\"data row1 col3\" >CC011</td>\n",
       "                        <td id=\"T_ebd1f_row1_col4\" class=\"data row1 col4\" >Lecture</td>\n",
       "                        <td id=\"T_ebd1f_row1_col5\" class=\"data row1 col5\" >75.376884</td>\n",
       "            </tr>\n",
       "    </tbody></table>"
      ],
      "text/plain": [
       "<pandas.io.formats.style.Styler at 0x7f8dc14daa90>"
      ]
     },
     "metadata": {},
     "output_type": "display_data"
    }
   ],
   "source": [
    "module_att('COA111',5)"
   ]
  },
  {
   "cell_type": "code",
   "execution_count": null,
   "id": "7aa4861f",
   "metadata": {},
   "outputs": [],
   "source": []
  }
 ],
 "metadata": {
  "kernelspec": {
   "display_name": "Python 3 (ipykernel)",
   "language": "python",
   "name": "python3"
  },
  "language_info": {
   "codemirror_mode": {
    "name": "ipython",
    "version": 3
   },
   "file_extension": ".py",
   "mimetype": "text/x-python",
   "name": "python",
   "nbconvert_exporter": "python",
   "pygments_lexer": "ipython3",
   "version": "3.8.8"
  }
 },
 "nbformat": 4,
 "nbformat_minor": 5
}
