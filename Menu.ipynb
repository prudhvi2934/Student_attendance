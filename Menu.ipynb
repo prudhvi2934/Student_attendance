{
 "cells": [
  {
   "cell_type": "markdown",
   "id": "d6504e47",
   "metadata": {},
   "source": [
    "# GUI Menu\n",
    "* The menu is based on Jupyter Widgets."
   ]
  },
  {
   "cell_type": "markdown",
   "id": "f7020dc6",
   "metadata": {},
   "source": [
    "## Imports"
   ]
  },
  {
   "cell_type": "code",
   "execution_count": 5,
   "id": "43ce3225",
   "metadata": {},
   "outputs": [],
   "source": [
    "import pandas as pd\n",
    "import ipynb\n",
    "import ipywidgets as widgets\n",
    "from ipywidgets import *\n",
    "from ipynb.fs.defs.CW_Preprocessing import *\n",
    "from ipynb.fs.defs.Student_Att import *\n",
    "from ipynb.fs.defs.Module_Att import *\n",
    "from ipynb.fs.defs.Poor_Att import *"
   ]
  },
  {
   "cell_type": "code",
   "execution_count": 6,
   "id": "6bbcab97",
   "metadata": {},
   "outputs": [],
   "source": [
    "def clicked_display_Table(b):\n",
    "    df_COA_Student,df_COA_Sessions=get_tables()\n",
    "    with output:       \n",
    "        display(df_COA_Student)\n",
    "        display(df_COA_Sessions)\n",
    "    \n",
    "def clicked_store_db(b):   \n",
    "    with output:       \n",
    "        main()\n",
    "        print(\"all done\")\n",
    "\n",
    "def clicked_clear_output(b):\n",
    "    output.clear_output() \n",
    "    \n",
    "def clicked_std_att(b):\n",
    "    with output:\n",
    "        (widgets.interact(student_att,studentId=slider))\n",
    "                          \n",
    "def clicked_poor_Att(b):\n",
    "    with output:\n",
    "        poor_Att()\n",
    "\n",
    "def clicked_cour_Att(b):\n",
    "    with output:      \n",
    "        widgets.interact(module_att,course=textcourse,week=textweek)\n",
    "        "
   ]
  },
  {
   "cell_type": "code",
   "execution_count": 3,
   "id": "fc197672",
   "metadata": {},
   "outputs": [],
   "source": [
    "#Create components \n",
    "btnMain = widgets.Button(description='Init')\n",
    "btnClear = widgets.Button(description='Clear')\n",
    "btnstdAtt = widgets.Button(description='Student Weekly Attendence')\n",
    "btnDisplay = widgets.Button(description='Display Tables')\n",
    "btnPooratt = widgets.Button(description='Poor Attendence')\n",
    "btncouravg = widgets.Button(description='Course average Attendence')\n",
    "slider = widgets.IntText(value=0,description='Student ID')\n",
    "textcourse= widgets.Dropdown(options=['COA111','COA122'],description='course')\n",
    "textweek= widgets.Dropdown(options=[1,2,3,4,5,6],description='Week')\n",
    "output = widgets.Output()\n",
    "\n",
    "#Layout\n",
    "b=widgets.HBox([btnMain,btnDisplay,btnstdAtt,btncouravg,btnPooratt,btnClear])\n",
    "allw=widgets.VBox([b,output])\n",
    "\n",
    "#Interaction\n",
    "btnMain.on_click(clicked_store_db)\n",
    "btnstdAtt.on_click(clicked_std_att)\n",
    "btnDisplay.on_click(clicked_display_Table)\n",
    "btnPooratt.on_click(clicked_poor_Att)\n",
    "btncouravg.on_click(clicked_cour_Att)\n",
    "btnClear.on_click(clicked_clear_output)\n",
    "\n",
    "\n"
   ]
  },
  {
   "cell_type": "code",
   "execution_count": 4,
   "id": "4fa6014b",
   "metadata": {
    "scrolled": false
   },
   "outputs": [
    {
     "data": {
      "application/vnd.jupyter.widget-view+json": {
       "model_id": "3507842e64a34d4bb12223a36966f756",
       "version_major": 2,
       "version_minor": 0
      },
      "text/plain": [
       "VBox(children=(HBox(children=(Button(description='Init', style=ButtonStyle()), Button(description='Display Tab…"
      ]
     },
     "metadata": {},
     "output_type": "display_data"
    }
   ],
   "source": [
    "display(allw)"
   ]
  },
  {
   "cell_type": "code",
   "execution_count": null,
   "id": "e16b006a",
   "metadata": {},
   "outputs": [],
   "source": []
  }
 ],
 "metadata": {
  "kernelspec": {
   "display_name": "Python 3 (ipykernel)",
   "language": "python",
   "name": "python3"
  },
  "language_info": {
   "codemirror_mode": {
    "name": "ipython",
    "version": 3
   },
   "file_extension": ".py",
   "mimetype": "text/x-python",
   "name": "python",
   "nbconvert_exporter": "python",
   "pygments_lexer": "ipython3",
   "version": "3.8.8"
  }
 },
 "nbformat": 4,
 "nbformat_minor": 5
}
